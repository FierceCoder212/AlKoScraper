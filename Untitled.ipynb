{
 "cells": [
  {
   "cell_type": "code",
   "execution_count": 1,
   "id": "71f05550-2884-4930-92e7-399a90add595",
   "metadata": {},
   "outputs": [],
   "source": [
    "from selenium.webdriver import Chrome, ChromeOptions\n",
    "from selenium.webdriver.chrome.service import Service\n",
    "from selenium_stealth import stealth\n",
    "from webdriver_manager.chrome import ChromeDriverManager\n",
    "import undetected_chromedriver as uc\n",
    "from selenium.webdriver.common.by import By\n",
    "import time\n",
    "from random import randint\n",
    "from selenium.webdriver.support.ui import WebDriverWait\n",
    "from selenium.webdriver.support import expected_conditions as EC\n",
    "import json\n",
    "from selenium.common import TimeoutException,NoSuchElementException\n",
    "from IPython.display import clear_output"
   ]
  },
  {
   "cell_type": "code",
   "execution_count": 9,
   "id": "ec51281f-1244-4791-84ae-b33c2aba29ad",
   "metadata": {},
   "outputs": [],
   "source": [
    "user_agent = \"Mozilla/5.0 (Macintosh; Intel Mac OS X 10_15_7) AppleWebKit/537.36 (KHTML, like Gecko) Chrome/128.0.0.0 Safari/537.36\"\n",
    "chrome_options = uc.ChromeOptions()\n",
    "# chrome_options.add_argument('--headless=new')\n",
    "chrome_options.add_argument(\"--start-maximized\")\n",
    "chrome_options.add_argument(\"user-agent={}\".format(user_agent))\n",
    "chrome_options.add_argument(\"--auto-open-devtools-for-tabs\")\n",
    "chrome_options.add_argument(\"--disable-popup-blocking\")\n",
    "driver = uc.Chrome(options=chrome_options, driver_executable_path=ChromeDriverManager().install())\n",
    "stealth(driver,\n",
    "        languages=[\"en-US\", \"en\"],\n",
    "        vendor=\"Google Inc.\",\n",
    "        platform=\"Win32\",\n",
    "        webgl_vendor=\"Intel Inc.\",\n",
    "        renderer=\"Intel Iris OpenGL Engine\",\n",
    "        fix_hairline=True\n",
    "        )"
   ]
  },
  {
   "cell_type": "code",
   "execution_count": 32,
   "id": "adeb4327-891d-45ab-9039-87f0654dd1ad",
   "metadata": {},
   "outputs": [],
   "source": [
    "with open(r\"C:\\Users\\ABDULLAH\\Downloads\\Model Data.json\", 'r') as json_data_file:\n",
    "    json_data = json.load(json_data_file)"
   ]
  },
  {
   "cell_type": "code",
   "execution_count": 11,
   "id": "8daf7260-a3d1-4230-a8fe-61003b2be0e1",
   "metadata": {},
   "outputs": [],
   "source": [
    "driver.execute_script(f'''window.open(\"https://alko-garden.uk/index.php?lang=1&cl=search&searchparam=127687\",\"_blank\");''')"
   ]
  },
  {
   "cell_type": "code",
   "execution_count": 12,
   "id": "919f7830-8d82-40e2-b276-ddbf710d23f7",
   "metadata": {},
   "outputs": [],
   "source": [
    "driver.switch_to.window(window_name=driver.window_handles[0])  # switch back to new ta\n",
    "driver.close()\n",
    "driver.switch_to.window(window_name=driver.window_handles[0])"
   ]
  },
  {
   "cell_type": "code",
   "execution_count": 14,
   "id": "ee206c10-ce93-4d64-948f-9f33cba5be5b",
   "metadata": {},
   "outputs": [],
   "source": [
    "driver.execute_script(f'''window.open(\"https://alko-garden.fi/index.php?lang=1&cl=search&searchparam=127417\",\"_blank\");''')"
   ]
  },
  {
   "cell_type": "code",
   "execution_count": 16,
   "id": "fbeb6b75-03a2-4f9e-ac4a-0a8ffeba8f0f",
   "metadata": {},
   "outputs": [],
   "source": [
    "driver.switch_to.window(window_name=driver.window_handles[0])  # switch back to new ta\n",
    "driver.close()\n",
    "driver.switch_to.window(window_name=driver.window_handles[0])"
   ]
  },
  {
   "cell_type": "code",
   "execution_count": 36,
   "id": "45c3864d-a5c9-49b8-9ced-873e16f53713",
   "metadata": {},
   "outputs": [],
   "source": [
    "with open(r\"ApiData.json\", 'r') as json_data_file:\n",
    "    saved_data = json.load(json_data_file)\n",
    "    saved_data_sgl = [data['SGL'] for data in saved_data]\n",
    "json_data = [data for data in json_data if data['SGL Unique Model Code'] not in saved_data_sgl]"
   ]
  },
  {
   "cell_type": "code",
   "execution_count": 37,
   "id": "10469a34-daa9-4d29-ae86-f7aa80e1e9c2",
   "metadata": {},
   "outputs": [
    {
     "data": {
      "text/plain": [
       "[]"
      ]
     },
     "execution_count": 37,
     "metadata": {},
     "output_type": "execute_result"
    }
   ],
   "source": [
    "json_data"
   ]
  },
  {
   "cell_type": "code",
   "execution_count": 35,
   "id": "ad48796f-61b1-44a8-943c-576e6fbc9d72",
   "metadata": {},
   "outputs": [
    {
     "name": "stdout",
     "output_type": "stream",
     "text": [
      "On uk : 0 out of 1, found 603, not found : -603, url : https://alko-garden.uk/garden-tools/lawn-care/garden-tractors-riders/tractor-t13-93-8-hd-a-black-edition.html\n"
     ]
    }
   ],
   "source": [
    "models = saved_data\n",
    "for index,item in enumerate(json_data):\n",
    "    model_code = item['Model Code']\n",
    "    sgl = item['SGL Unique Model Code']\n",
    "    country_code = item['Country'].replace('.','')\n",
    "    url = f'https://alko-garden.{country_code}/index.php?lang=1&cl=search&searchparam={model_code}'\n",
    "    url = item['Link']\n",
    "    \n",
    "    print(f'On {country_code} : {index} out of {len(json_data)}, found {len(models)}, not found : {index-len(models)}, url : {url}')\n",
    "    \n",
    "    # Open the new tab and switch to it\n",
    "    driver.execute_script(f'''window.open(\"{url}\", \"_blank\");''')\n",
    "    driver.switch_to.window(driver.window_handles[-1])\n",
    "    \n",
    "    try:\n",
    "        # Wait for the page to load and find elements\n",
    "        WebDriverWait(driver, 10).until(EC.presence_of_element_located((By.CSS_SELECTOR, 'span.artNumber')))\n",
    "\n",
    "        # Extract information\n",
    "        catalog_name = driver.find_element(By.CSS_SELECTOR, 'h1#productTitle').text\n",
    "        aid = driver.find_element(By.CSS_SELECTOR, 'input[name=aid]').get_attribute('value')\n",
    "        anid = driver.find_element(By.CSS_SELECTOR, 'input[name=anid]').get_attribute('value')\n",
    "        cnid = driver.find_element(By.CSS_SELECTOR, 'input[name=cnid]').get_attribute('value')  # Correct name if necessary\n",
    "\n",
    "        # Construct URL and append model details\n",
    "        url = f'https://alko-garden.{country_code}/index.php?cl=sparepart_list&fnc=getTabContent&content=spareparts&aid={aid}&anid={anid}&cnid={cnid}'\n",
    "        models.append({\n",
    "            'Catalog': catalog_name,\n",
    "            'SGL': sgl,\n",
    "            'URL': url,\n",
    "            'CountryCode':country_code\n",
    "        })\n",
    "\n",
    "    except TimeoutException as e:\n",
    "        print('Model not found on this version of site:')\n",
    "    except NoSuchElementException as e:\n",
    "        print('Model not found on this version of site:')\n",
    "\n",
    "    finally:\n",
    "        # Close the current tab and switch back to the original tab\n",
    "        driver.close()\n",
    "        driver.switch_to.window(driver.window_handles[0])\n",
    "    # Wait for a random time between 5 and 8 seconds\n",
    "    time.sleep(randint(5, 8))\n",
    "    \n",
    "    index += 1\n",
    "    clear_output(wait=True)\n",
    "with open(f'ApiData.json', 'w') as json_file:\n",
    "    json_file.write(json.dumps(models, indent=4))"
   ]
  },
  {
   "cell_type": "code",
   "execution_count": 19,
   "id": "9e167577-1f48-429f-acd0-4282a914416e",
   "metadata": {},
   "outputs": [
    {
     "name": "stdout",
     "output_type": "stream",
     "text": [
      "496 496\n"
     ]
    }
   ],
   "source": [
    "with open(f'ApiData.json', 'r') as json_file:\n",
    "    prev_data = json.load(json_file)\n",
    "print(len(prev_data), len(models))"
   ]
  },
  {
   "cell_type": "code",
   "execution_count": null,
   "id": "8ac8c9b3-6661-4bc3-bb5d-c65969f1e178",
   "metadata": {},
   "outputs": [],
   "source": [
    "models.extend(prev_data)"
   ]
  },
  {
   "cell_type": "code",
   "execution_count": null,
   "id": "51c43c3c-d646-4482-a397-c880ec31f3d2",
   "metadata": {},
   "outputs": [],
   "source": [
    "with open(f'ApiData.json', 'w') as json_file:\n",
    "    json_file.write(json.dumps(models, indent=4))"
   ]
  }
 ],
 "metadata": {
  "kernelspec": {
   "display_name": "Python 3 (ipykernel)",
   "language": "python",
   "name": "python3"
  },
  "language_info": {
   "codemirror_mode": {
    "name": "ipython",
    "version": 3
   },
   "file_extension": ".py",
   "mimetype": "text/x-python",
   "name": "python",
   "nbconvert_exporter": "python",
   "pygments_lexer": "ipython3",
   "version": "3.12.2"
  }
 },
 "nbformat": 4,
 "nbformat_minor": 5
}
