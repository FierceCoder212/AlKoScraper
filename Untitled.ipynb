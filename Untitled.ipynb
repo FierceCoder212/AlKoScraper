{
 "cells": [
  {
   "cell_type": "code",
   "execution_count": 23,
   "id": "71f05550-2884-4930-92e7-399a90add595",
   "metadata": {},
   "outputs": [],
   "source": [
    "from selenium.webdriver import Chrome, ChromeOptions\n",
    "from selenium.webdriver.chrome.service import Service\n",
    "from selenium_stealth import stealth\n",
    "from webdriver_manager.chrome import ChromeDriverManager\n",
    "import undetected_chromedriver as uc\n",
    "from selenium.webdriver.common.by import By\n",
    "import time\n",
    "from random import randint\n",
    "from selenium.webdriver.support.ui import WebDriverWait\n",
    "from selenium.webdriver.support import expected_conditions as EC\n",
    "import json\n",
    "from selenium.common import TimeoutException,NoSuchElementException\n",
    "from IPython.display import clear_output"
   ]
  },
  {
   "cell_type": "code",
   "execution_count": 31,
   "id": "ec51281f-1244-4791-84ae-b33c2aba29ad",
   "metadata": {},
   "outputs": [],
   "source": [
    "user_agent = \"Mozilla/5.0 (Windows NT 10.0; Win64; x64) AppleWebKit/537.36 (KHTML, like Gecko) Chrome/128.0.0.0 Safari/537.36\"\n",
    "chrome_options = uc.ChromeOptions()\n",
    "# chrome_options.add_argument('--headless=new')\n",
    "chrome_options.add_argument(\"--start-maximized\")\n",
    "chrome_options.add_argument(\"user-agent={}\".format(user_agent))\n",
    "chrome_options.add_argument(\"--auto-open-devtools-for-tabs\")\n",
    "chrome_options.add_argument(\"--disable-popup-blocking\")\n",
    "driver = uc.Chrome(options=chrome_options, driver_executable_path=ChromeDriverManager().install())\n",
    "stealth(driver,\n",
    "        languages=[\"en-US\", \"en\"],\n",
    "        vendor=\"Google Inc.\",\n",
    "        platform=\"Win32\",\n",
    "        webgl_vendor=\"Intel Inc.\",\n",
    "        renderer=\"Intel Iris OpenGL Engine\",\n",
    "        fix_hairline=True\n",
    "        )"
   ]
  },
  {
   "cell_type": "code",
   "execution_count": 32,
   "id": "aa6918c5-086e-4cd8-a5d6-af8e245fbf12",
   "metadata": {},
   "outputs": [],
   "source": [
    "url = f'https://alko-garden.cz'"
   ]
  },
  {
   "cell_type": "code",
   "execution_count": 33,
   "id": "ef700be1-1b34-47e3-86d0-b78c88665e20",
   "metadata": {},
   "outputs": [],
   "source": [
    "driver.execute_script(f'''window.open(\"{url}\",\"_blank\");''')"
   ]
  },
  {
   "cell_type": "code",
   "execution_count": 34,
   "id": "70074092-a44a-4549-a826-5e7f855b9283",
   "metadata": {},
   "outputs": [],
   "source": [
    "driver.switch_to.window(window_name=driver.window_handles[0])  # switch back to new ta\n",
    "driver.close()\n",
    "driver.switch_to.window(window_name=driver.window_handles[0])"
   ]
  },
  {
   "cell_type": "code",
   "execution_count": 35,
   "id": "62cab965-c141-4a59-b4b9-f916efc0086e",
   "metadata": {},
   "outputs": [],
   "source": [
    "country_codes = ['sk', 'hu','com.ua']\n",
    "#hu-187\n",
    "#sk-101"
   ]
  },
  {
   "cell_type": "code",
   "execution_count": 36,
   "id": "7d17a5a5-7071-4e12-a03c-c1a973b04a68",
   "metadata": {},
   "outputs": [],
   "source": [
    "completed_codes = ['de','German_fi','uk','at', 'lt','ro','lv', 'ee','cz', 'it','dk', 'se', 'pl', 'no', 'hr', 'si', 'ch',]"
   ]
  },
  {
   "cell_type": "code",
   "execution_count": 38,
   "id": "9e167577-1f48-429f-acd0-4282a914416e",
   "metadata": {},
   "outputs": [
    {
     "name": "stdout",
     "output_type": "stream",
     "text": [
      "On hu : 1 out of 349, Not Found : 1, Found : 0\n"
     ]
    },
    {
     "ename": "KeyboardInterrupt",
     "evalue": "",
     "output_type": "error",
     "traceback": [
      "\u001b[1;31m---------------------------------------------------------------------------\u001b[0m",
      "\u001b[1;31mKeyboardInterrupt\u001b[0m                         Traceback (most recent call last)",
      "Cell \u001b[1;32mIn[38], line 30\u001b[0m\n\u001b[0;32m     26\u001b[0m driver\u001b[38;5;241m.\u001b[39mswitch_to\u001b[38;5;241m.\u001b[39mwindow(driver\u001b[38;5;241m.\u001b[39mwindow_handles[\u001b[38;5;241m-\u001b[39m\u001b[38;5;241m1\u001b[39m])\n\u001b[0;32m     28\u001b[0m \u001b[38;5;28;01mtry\u001b[39;00m:\n\u001b[0;32m     29\u001b[0m     \u001b[38;5;66;03m# Wait for the page to load and find elements\u001b[39;00m\n\u001b[1;32m---> 30\u001b[0m     \u001b[43mWebDriverWait\u001b[49m\u001b[43m(\u001b[49m\u001b[43mdriver\u001b[49m\u001b[43m,\u001b[49m\u001b[43m \u001b[49m\u001b[38;5;241;43m10\u001b[39;49m\u001b[43m)\u001b[49m\u001b[38;5;241;43m.\u001b[39;49m\u001b[43muntil\u001b[49m\u001b[43m(\u001b[49m\u001b[43mEC\u001b[49m\u001b[38;5;241;43m.\u001b[39;49m\u001b[43mpresence_of_element_located\u001b[49m\u001b[43m(\u001b[49m\u001b[43m(\u001b[49m\u001b[43mBy\u001b[49m\u001b[38;5;241;43m.\u001b[39;49m\u001b[43mCSS_SELECTOR\u001b[49m\u001b[43m,\u001b[49m\u001b[43m \u001b[49m\u001b[38;5;124;43m'\u001b[39;49m\u001b[38;5;124;43mspan.artNumber\u001b[39;49m\u001b[38;5;124;43m'\u001b[39;49m\u001b[43m)\u001b[49m\u001b[43m)\u001b[49m\u001b[43m)\u001b[49m\n\u001b[0;32m     32\u001b[0m     \u001b[38;5;66;03m# Extract information\u001b[39;00m\n\u001b[0;32m     33\u001b[0m     catalog_name \u001b[38;5;241m=\u001b[39m driver\u001b[38;5;241m.\u001b[39mfind_element(By\u001b[38;5;241m.\u001b[39mCSS_SELECTOR, \u001b[38;5;124m'\u001b[39m\u001b[38;5;124mh1#productTitle\u001b[39m\u001b[38;5;124m'\u001b[39m)\u001b[38;5;241m.\u001b[39mtext\n",
      "File \u001b[1;32mD:\\Workspace\\Projects\\AlKoScraper\\.venv\\Lib\\site-packages\\selenium\\webdriver\\support\\wait.py:102\u001b[0m, in \u001b[0;36mWebDriverWait.until\u001b[1;34m(self, method, message)\u001b[0m\n\u001b[0;32m    100\u001b[0m     screen \u001b[38;5;241m=\u001b[39m \u001b[38;5;28mgetattr\u001b[39m(exc, \u001b[38;5;124m\"\u001b[39m\u001b[38;5;124mscreen\u001b[39m\u001b[38;5;124m\"\u001b[39m, \u001b[38;5;28;01mNone\u001b[39;00m)\n\u001b[0;32m    101\u001b[0m     stacktrace \u001b[38;5;241m=\u001b[39m \u001b[38;5;28mgetattr\u001b[39m(exc, \u001b[38;5;124m\"\u001b[39m\u001b[38;5;124mstacktrace\u001b[39m\u001b[38;5;124m\"\u001b[39m, \u001b[38;5;28;01mNone\u001b[39;00m)\n\u001b[1;32m--> 102\u001b[0m \u001b[43mtime\u001b[49m\u001b[38;5;241;43m.\u001b[39;49m\u001b[43msleep\u001b[49m\u001b[43m(\u001b[49m\u001b[38;5;28;43mself\u001b[39;49m\u001b[38;5;241;43m.\u001b[39;49m\u001b[43m_poll\u001b[49m\u001b[43m)\u001b[49m\n\u001b[0;32m    103\u001b[0m \u001b[38;5;28;01mif\u001b[39;00m time\u001b[38;5;241m.\u001b[39mmonotonic() \u001b[38;5;241m>\u001b[39m end_time:\n\u001b[0;32m    104\u001b[0m     \u001b[38;5;28;01mbreak\u001b[39;00m\n",
      "\u001b[1;31mKeyboardInterrupt\u001b[0m: "
     ]
    }
   ],
   "source": [
    "for country_code in country_codes:\n",
    "    files_data = []\n",
    "    with open(r\"C:\\Users\\ABDULLAH\\Downloads\\data_json.josn\", 'r') as json_file:\n",
    "        data = json.load(json_file)\n",
    "    for completed_code in completed_codes:\n",
    "        with open(f\"{completed_code}.json\", 'r') as json_file:\n",
    "            files_data.extend([d['SGL'] for d in json.load(json_file)])\n",
    "    \n",
    "    data = [d for d in data if d['SGL Unique Model Code'] not in files_data]\n",
    "    del files_data\n",
    "    with open('RemainingData.json', 'w') as json_file:\n",
    "        json_file.write(json.dumps(data, indent=4))\n",
    "    with open(r\"RemainingData.json\",'r') as json_file:\n",
    "        data = json.load(json_file)\n",
    "    index = 0\n",
    "    models = []\n",
    "    print(len(data))\n",
    "    for item in data[345:]:\n",
    "        model_code = item['Model Code']\n",
    "        sgl = item['SGL Unique Model Code']\n",
    "        url = f'https://alko-garden.{country_code}/index.php?lang=1&cl=search&searchparam={model_code}'\n",
    "        print(f'On {country_code} : {index} out of {len(data)}, Not Found : {index-len(models)}, Found : {len(models)}')\n",
    "        \n",
    "        # Open the new tab and switch to it\n",
    "        driver.execute_script(f'''window.open(\"{url}\", \"_blank\");''')\n",
    "        driver.switch_to.window(driver.window_handles[-1])\n",
    "        \n",
    "        try:\n",
    "            # Wait for the page to load and find elements\n",
    "            WebDriverWait(driver, 10).until(EC.presence_of_element_located((By.CSS_SELECTOR, 'span.artNumber')))\n",
    "    \n",
    "            # Extract information\n",
    "            catalog_name = driver.find_element(By.CSS_SELECTOR, 'h1#productTitle').text\n",
    "            aid = driver.find_element(By.CSS_SELECTOR, 'input[name=aid]').get_attribute('value')\n",
    "            anid = driver.find_element(By.CSS_SELECTOR, 'input[name=anid]').get_attribute('value')\n",
    "            cnid = driver.find_element(By.CSS_SELECTOR, 'input[name=cnid]').get_attribute('value')  # Correct name if necessary\n",
    "    \n",
    "            # Construct URL and append model details\n",
    "            url = f'https://alko-garden.{country_code}/index.php?cl=sparepart_list&fnc=getTabContent&content=spareparts&aid={aid}&anid={anid}&cnid={cnid}'\n",
    "            models.append({\n",
    "                'Catalog': catalog_name,\n",
    "                'SGL': sgl,\n",
    "                'URL': url\n",
    "            })\n",
    "    \n",
    "        except TimeoutException as e:\n",
    "            print('Model not found on this version of site:')\n",
    "        except NoSuchElementException as e:\n",
    "            print('Model not found on this version of site:')\n",
    "    \n",
    "        finally:\n",
    "            # Close the current tab and switch back to the original tab\n",
    "            driver.close()\n",
    "            driver.switch_to.window(driver.window_handles[0])\n",
    "        # Wait for a random time between 5 and 8 seconds\n",
    "        time.sleep(randint(5, 8))\n",
    "        \n",
    "        index += 1\n",
    "        clear_output(wait=True)\n",
    "    with open(f'{country_code}.json', 'w') as json_file:\n",
    "        json_file.write(json.dumps(models, indent=4))\n",
    "    completed_codes.append(country_code)"
   ]
  },
  {
   "cell_type": "code",
   "execution_count": null,
   "id": "51c43c3c-d646-4482-a397-c880ec31f3d2",
   "metadata": {},
   "outputs": [],
   "source": []
  }
 ],
 "metadata": {
  "kernelspec": {
   "display_name": "Python 3 (ipykernel)",
   "language": "python",
   "name": "python3"
  },
  "language_info": {
   "codemirror_mode": {
    "name": "ipython",
    "version": 3
   },
   "file_extension": ".py",
   "mimetype": "text/x-python",
   "name": "python",
   "nbconvert_exporter": "python",
   "pygments_lexer": "ipython3",
   "version": "3.12.2"
  }
 },
 "nbformat": 4,
 "nbformat_minor": 5
}
